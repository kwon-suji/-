{
  "nbformat": 4,
  "nbformat_minor": 0,
  "metadata": {
    "colab": {
      "name": "Gaussian naive Bayes",
      "provenance": [],
      "collapsed_sections": [],
      "authorship_tag": "ABX9TyNtuDkZzIDLJOopxafvCCCx",
      "include_colab_link": true
    },
    "kernelspec": {
      "name": "python3",
      "display_name": "Python 3"
    },
    "language_info": {
      "name": "python"
    }
  },
  "cells": [
    {
      "cell_type": "markdown",
      "metadata": {
        "id": "view-in-github",
        "colab_type": "text"
      },
      "source": [
        "<a href=\"https://colab.research.google.com/github/kwon-suji/-/blob/master/Gaussian_naive_Bayes.ipynb\" target=\"_parent\"><img src=\"https://colab.research.google.com/assets/colab-badge.svg\" alt=\"Open In Colab\"/></a>"
      ]
    },
    {
      "cell_type": "code",
      "execution_count": 1,
      "metadata": {
        "id": "U1TThrrMInxm"
      },
      "outputs": [],
      "source": [
        "import numpy as np   # 숫자에 관한 라이브러리 넘파이 임포트. 줄여서 np라고 사용\n",
        "import pandas as pd  # 데이터처리 라이브러리 판다스 임포트. 줄여서 pd라고 사용"
      ]
    },
    {
      "cell_type": "code",
      "source": [
        "from sklearn import datasets # sckit-lean에서 데이터셋 가져오기\n",
        "iris=datasets.load_iris()    # 변수 iris에 아이리스에 관한 정보 넣기\n",
        "from sklearn.model_selection import train_test_split # 데이터셋을 train셋과 test셋으로 나눠주는 train_test_split 함수\n",
        "from sklearn.naive_bayes import GaussianNB  # sckit-lean에서 GaussianNB 임포트"
      ],
      "metadata": {
        "id": "jCc5jNLNIsK1"
      },
      "execution_count": 2,
      "outputs": []
    },
    {
      "cell_type": "code",
      "source": [
        "x_train, x_test, y_train, y_test = train_test_split(iris['data'], iris['target'], test_size=0.2,random_state=22)\n",
        " # x_train 데이터셋, x_test, y_train y_test \n",
        " # test_size=0.2 테스트데이터와 트레인데이터의 비율을 2:8로 해준다\n",
        " # random_state를 설정해주는 이유는 리플레이를 가능하게 해주기 위해서이다.\n",
        " # random_state를 지정해주지 않으면 코드를 실행시킬 때마다 매번 다르게 데이터가 선택된다."
      ],
      "metadata": {
        "id": "ocAYs-ojJNGs"
      },
      "execution_count": 3,
      "outputs": []
    },
    {
      "cell_type": "code",
      "source": [
        "GNB = GaussianNB() # GaussianNB모델 생성\n",
        "GNB.fit(x_train, y_train)  # x_train 데이터셋과 y_train 데이터셋으로 GNB 학습시키기"
      ],
      "metadata": {
        "colab": {
          "base_uri": "https://localhost:8080/"
        },
        "id": "U8jcLBA3JRjW",
        "outputId": "14734b65-a6ea-4201-c51e-0ff293eb283b"
      },
      "execution_count": 4,
      "outputs": [
        {
          "output_type": "execute_result",
          "data": {
            "text/plain": [
              "GaussianNB()"
            ]
          },
          "metadata": {},
          "execution_count": 4
        }
      ]
    },
    {
      "cell_type": "code",
      "source": [
        "from sklearn.metrics import accuracy_score # sckit-lean의 정확도측정 함수 불러오기 \n",
        "y_predict = GNB.predict(x_train)           # x_train 데이터셋에 대한 y예측값 뽑아내기\n",
        "score = accuracy_score(y_train, y_predict)\n",
        "# x_train 에 관한 실제 출력값 y_train과 예측값 y_predict 를 비교하여 정확도 출력\n",
        "print(score) # 정확도 출력"
      ],
      "metadata": {
        "colab": {
          "base_uri": "https://localhost:8080/"
        },
        "id": "MwkqLwIEJhk7",
        "outputId": "2944a547-3e77-4b09-8bd0-589ee06e9801"
      },
      "execution_count": 5,
      "outputs": [
        {
          "output_type": "stream",
          "name": "stdout",
          "text": [
            "0.9583333333333334\n"
          ]
        }
      ]
    },
    {
      "cell_type": "code",
      "source": [
        "y_predict = GNB.predict(x_test)           # x_train 데이터셋에 대한 y예측값 뽑아내기\n",
        "score = accuracy_score(y_test, y_predict)\n",
        "# x_test 에 관한 실제 출력값 y_test과 예측값 y_predict 를 비교하여 정확도 출력\n",
        "print(score) # 정확도 출력"
      ],
      "metadata": {
        "colab": {
          "base_uri": "https://localhost:8080/"
        },
        "id": "w3DR8eupJOUb",
        "outputId": "eee793be-6d51-4d46-a32a-ec88cfecec0d"
      },
      "execution_count": 6,
      "outputs": [
        {
          "output_type": "stream",
          "name": "stdout",
          "text": [
            "0.9666666666666667\n"
          ]
        }
      ]
    }
  ]
}