{
  "nbformat": 4,
  "nbformat_minor": 0,
  "metadata": {
    "colab": {
      "name": "1. 파이썬과 기계학습 기초 실습의 사본",
      "provenance": [],
      "collapsed_sections": [],
      "include_colab_link": true
    },
    "kernelspec": {
      "name": "python3",
      "display_name": "Python 3"
    },
    "language_info": {
      "name": "python"
    }
  },
  "cells": [
    {
      "cell_type": "markdown",
      "metadata": {
        "id": "view-in-github",
        "colab_type": "text"
      },
      "source": [
        "<a href=\"https://colab.research.google.com/github/kwon-suji/-/blob/master/1_%ED%8C%8C%EC%9D%B4%EC%8D%AC%EA%B3%BC_%EA%B8%B0%EA%B3%84%ED%95%99%EC%8A%B5_%EA%B8%B0%EC%B4%88_%EC%8B%A4%EC%8A%B5%EC%9D%98_%EC%82%AC%EB%B3%B8.ipynb\" target=\"_parent\"><img src=\"https://colab.research.google.com/assets/colab-badge.svg\" alt=\"Open In Colab\"/></a>"
      ]
    },
    {
      "cell_type": "code",
      "execution_count": 1,
      "metadata": {
        "id": "NCnlTCUlgQLb"
      },
      "outputs": [],
      "source": [
        "import numpy as np   # 숫자에 관한 라이브러리\n",
        "import pandas as pd  # 데이터처리 라이브러리"
      ]
    },
    {
      "cell_type": "code",
      "source": [
        "from sklearn import datasets # 데이터셋 가져오기\n",
        "iris=datasets.load_iris()    # 변수 iris에 아이리스에 관한 정보 넣기\n",
        "from sklearn.model_selection import train_test_split # 데이터셋을 train셋과 test셋으로 나눠줌\n",
        "from sklearn.neighbors import KNeighborsClassifier   #\n",
        "from sklearn.datasets import make_classification     #"
      ],
      "metadata": {
        "id": "GoR_tS6_g9sQ"
      },
      "execution_count": 8,
      "outputs": []
    },
    {
      "cell_type": "code",
      "source": [
        "print(iris.DESCR) # 데이터셋과 관한 설명 출력"
      ],
      "metadata": {
        "id": "YkBBt3WVg_8_",
        "colab": {
          "base_uri": "https://localhost:8080/"
        },
        "outputId": "69abc28f-d06a-46fb-cc2e-c3a9fefbd089"
      },
      "execution_count": 13,
      "outputs": [
        {
          "output_type": "stream",
          "name": "stdout",
          "text": [
            ".. _iris_dataset:\n",
            "\n",
            "Iris plants dataset\n",
            "--------------------\n",
            "\n",
            "**Data Set Characteristics:**\n",
            "\n",
            "    :Number of Instances: 150 (50 in each of three classes)\n",
            "    :Number of Attributes: 4 numeric, predictive attributes and the class\n",
            "    :Attribute Information:\n",
            "        - sepal length in cm\n",
            "        - sepal width in cm\n",
            "        - petal length in cm\n",
            "        - petal width in cm\n",
            "        - class:\n",
            "                - Iris-Setosa\n",
            "                - Iris-Versicolour\n",
            "                - Iris-Virginica\n",
            "                \n",
            "    :Summary Statistics:\n",
            "\n",
            "    ============== ==== ==== ======= ===== ====================\n",
            "                    Min  Max   Mean    SD   Class Correlation\n",
            "    ============== ==== ==== ======= ===== ====================\n",
            "    sepal length:   4.3  7.9   5.84   0.83    0.7826\n",
            "    sepal width:    2.0  4.4   3.05   0.43   -0.4194\n",
            "    petal length:   1.0  6.9   3.76   1.76    0.9490  (high!)\n",
            "    petal width:    0.1  2.5   1.20   0.76    0.9565  (high!)\n",
            "    ============== ==== ==== ======= ===== ====================\n",
            "\n",
            "    :Missing Attribute Values: None\n",
            "    :Class Distribution: 33.3% for each of 3 classes.\n",
            "    :Creator: R.A. Fisher\n",
            "    :Donor: Michael Marshall (MARSHALL%PLU@io.arc.nasa.gov)\n",
            "    :Date: July, 1988\n",
            "\n",
            "The famous Iris database, first used by Sir R.A. Fisher. The dataset is taken\n",
            "from Fisher's paper. Note that it's the same as in R, but not as in the UCI\n",
            "Machine Learning Repository, which has two wrong data points.\n",
            "\n",
            "This is perhaps the best known database to be found in the\n",
            "pattern recognition literature.  Fisher's paper is a classic in the field and\n",
            "is referenced frequently to this day.  (See Duda & Hart, for example.)  The\n",
            "data set contains 3 classes of 50 instances each, where each class refers to a\n",
            "type of iris plant.  One class is linearly separable from the other 2; the\n",
            "latter are NOT linearly separable from each other.\n",
            "\n",
            ".. topic:: References\n",
            "\n",
            "   - Fisher, R.A. \"The use of multiple measurements in taxonomic problems\"\n",
            "     Annual Eugenics, 7, Part II, 179-188 (1936); also in \"Contributions to\n",
            "     Mathematical Statistics\" (John Wiley, NY, 1950).\n",
            "   - Duda, R.O., & Hart, P.E. (1973) Pattern Classification and Scene Analysis.\n",
            "     (Q327.D83) John Wiley & Sons.  ISBN 0-471-22361-1.  See page 218.\n",
            "   - Dasarathy, B.V. (1980) \"Nosing Around the Neighborhood: A New System\n",
            "     Structure and Classification Rule for Recognition in Partially Exposed\n",
            "     Environments\".  IEEE Transactions on Pattern Analysis and Machine\n",
            "     Intelligence, Vol. PAMI-2, No. 1, 67-71.\n",
            "   - Gates, G.W. (1972) \"The Reduced Nearest Neighbor Rule\".  IEEE Transactions\n",
            "     on Information Theory, May 1972, 431-433.\n",
            "   - See also: 1988 MLC Proceedings, 54-64.  Cheeseman et al\"s AUTOCLASS II\n",
            "     conceptual clustering system finds 3 classes in the data.\n",
            "   - Many, many more ...\n"
          ]
        }
      ]
    },
    {
      "cell_type": "code",
      "source": [
        "x_data = pd.DataFrame(dataset.data, columns=dataset.feature_names)\n",
        "y_data = pd.DataFrame(dataset.target)\n",
        "\n",
        "print(x_data)\n",
        "print(y_data)"
      ],
      "metadata": {
        "id": "fhSBqGZ9iplE",
        "colab": {
          "base_uri": "https://localhost:8080/"
        },
        "outputId": "0201fdd5-77eb-44a5-b5e8-785d1b1c89b6"
      },
      "execution_count": null,
      "outputs": [
        {
          "output_type": "stream",
          "name": "stdout",
          "text": [
            "       MedInc  HouseAge  AveRooms  AveBedrms  Population  AveOccup  Latitude  \\\n",
            "0      8.3252      41.0  6.984127   1.023810       322.0  2.555556     37.88   \n",
            "1      8.3014      21.0  6.238137   0.971880      2401.0  2.109842     37.86   \n",
            "2      7.2574      52.0  8.288136   1.073446       496.0  2.802260     37.85   \n",
            "3      5.6431      52.0  5.817352   1.073059       558.0  2.547945     37.85   \n",
            "4      3.8462      52.0  6.281853   1.081081       565.0  2.181467     37.85   \n",
            "...       ...       ...       ...        ...         ...       ...       ...   \n",
            "20635  1.5603      25.0  5.045455   1.133333       845.0  2.560606     39.48   \n",
            "20636  2.5568      18.0  6.114035   1.315789       356.0  3.122807     39.49   \n",
            "20637  1.7000      17.0  5.205543   1.120092      1007.0  2.325635     39.43   \n",
            "20638  1.8672      18.0  5.329513   1.171920       741.0  2.123209     39.43   \n",
            "20639  2.3886      16.0  5.254717   1.162264      1387.0  2.616981     39.37   \n",
            "\n",
            "       Longitude  \n",
            "0        -122.23  \n",
            "1        -122.22  \n",
            "2        -122.24  \n",
            "3        -122.25  \n",
            "4        -122.25  \n",
            "...          ...  \n",
            "20635    -121.09  \n",
            "20636    -121.21  \n",
            "20637    -121.22  \n",
            "20638    -121.32  \n",
            "20639    -121.24  \n",
            "\n",
            "[20640 rows x 8 columns]\n",
            "           0\n",
            "0      4.526\n",
            "1      3.585\n",
            "2      3.521\n",
            "3      3.413\n",
            "4      3.422\n",
            "...      ...\n",
            "20635  0.781\n",
            "20636  0.771\n",
            "20637  0.923\n",
            "20638  0.847\n",
            "20639  0.894\n",
            "\n",
            "[20640 rows x 1 columns]\n"
          ]
        }
      ]
    },
    {
      "cell_type": "code",
      "source": [
        "print(x_data.shape)"
      ],
      "metadata": {
        "id": "e2b9w7ddkns2",
        "colab": {
          "base_uri": "https://localhost:8080/"
        },
        "outputId": "a37cb263-33dd-47e2-b6e7-e696e0914d46"
      },
      "execution_count": null,
      "outputs": [
        {
          "output_type": "stream",
          "name": "stdout",
          "text": [
            "(20640, 8)\n"
          ]
        }
      ]
    },
    {
      "cell_type": "code",
      "source": [
        "print(x_data.describe())"
      ],
      "metadata": {
        "id": "kg_Pyot3kyAE",
        "colab": {
          "base_uri": "https://localhost:8080/"
        },
        "outputId": "70c6573c-6529-4baf-eb26-4bed08ebc24d"
      },
      "execution_count": null,
      "outputs": [
        {
          "output_type": "stream",
          "name": "stdout",
          "text": [
            "             MedInc      HouseAge      AveRooms     AveBedrms    Population  \\\n",
            "count  20640.000000  20640.000000  20640.000000  20640.000000  20640.000000   \n",
            "mean       3.870671     28.639486      5.429000      1.096675   1425.476744   \n",
            "std        1.899822     12.585558      2.474173      0.473911   1132.462122   \n",
            "min        0.499900      1.000000      0.846154      0.333333      3.000000   \n",
            "25%        2.563400     18.000000      4.440716      1.006079    787.000000   \n",
            "50%        3.534800     29.000000      5.229129      1.048780   1166.000000   \n",
            "75%        4.743250     37.000000      6.052381      1.099526   1725.000000   \n",
            "max       15.000100     52.000000    141.909091     34.066667  35682.000000   \n",
            "\n",
            "           AveOccup      Latitude     Longitude  \n",
            "count  20640.000000  20640.000000  20640.000000  \n",
            "mean       3.070655     35.631861   -119.569704  \n",
            "std       10.386050      2.135952      2.003532  \n",
            "min        0.692308     32.540000   -124.350000  \n",
            "25%        2.429741     33.930000   -121.800000  \n",
            "50%        2.818116     34.260000   -118.490000  \n",
            "75%        3.282261     37.710000   -118.010000  \n",
            "max     1243.333333     41.950000   -114.310000  \n"
          ]
        }
      ]
    },
    {
      "cell_type": "code",
      "source": [
        "x_train, x_test, y_train, y_test = train_test_split(iris['data'], iris['target'], test_size=0.2,random_state=22)\n",
        "\n",
        "print(x_train)\n",
        "print(y_train)"
      ],
      "metadata": {
        "id": "KmU9_rezjTv8",
        "colab": {
          "base_uri": "https://localhost:8080/"
        },
        "outputId": "1658637c-a0a0-4a56-8c0a-575b45916c1d"
      },
      "execution_count": 16,
      "outputs": [
        {
          "output_type": "stream",
          "name": "stdout",
          "text": [
            "[[4.8 3.1 1.6 0.2]\n",
            " [5.4 3.4 1.5 0.4]\n",
            " [5.5 2.5 4.  1.3]\n",
            " [5.5 2.6 4.4 1.2]\n",
            " [5.7 2.8 4.5 1.3]\n",
            " [5.  3.4 1.6 0.4]\n",
            " [5.1 3.4 1.5 0.2]\n",
            " [4.9 3.6 1.4 0.1]\n",
            " [6.9 3.1 5.4 2.1]\n",
            " [6.7 2.5 5.8 1.8]\n",
            " [7.  3.2 4.7 1.4]\n",
            " [6.3 3.3 4.7 1.6]\n",
            " [5.4 3.9 1.3 0.4]\n",
            " [4.4 3.2 1.3 0.2]\n",
            " [6.7 3.  5.  1.7]\n",
            " [5.6 3.  4.1 1.3]\n",
            " [5.7 2.5 5.  2. ]\n",
            " [6.5 3.  5.8 2.2]\n",
            " [5.  3.6 1.4 0.2]\n",
            " [6.1 2.8 4.  1.3]\n",
            " [6.  3.4 4.5 1.6]\n",
            " [6.7 3.  5.2 2.3]\n",
            " [5.7 4.4 1.5 0.4]\n",
            " [5.4 3.4 1.7 0.2]\n",
            " [5.  3.5 1.3 0.3]\n",
            " [4.8 3.  1.4 0.1]\n",
            " [5.5 4.2 1.4 0.2]\n",
            " [4.6 3.6 1.  0.2]\n",
            " [7.2 3.2 6.  1.8]\n",
            " [5.1 2.5 3.  1.1]\n",
            " [6.4 3.2 4.5 1.5]\n",
            " [7.3 2.9 6.3 1.8]\n",
            " [4.5 2.3 1.3 0.3]\n",
            " [5.  3.  1.6 0.2]\n",
            " [5.7 3.8 1.7 0.3]\n",
            " [5.  3.3 1.4 0.2]\n",
            " [6.2 2.2 4.5 1.5]\n",
            " [5.1 3.5 1.4 0.2]\n",
            " [6.4 2.9 4.3 1.3]\n",
            " [4.9 2.4 3.3 1. ]\n",
            " [6.3 2.5 4.9 1.5]\n",
            " [6.1 2.8 4.7 1.2]\n",
            " [5.9 3.2 4.8 1.8]\n",
            " [5.4 3.9 1.7 0.4]\n",
            " [6.  2.2 4.  1. ]\n",
            " [6.4 2.8 5.6 2.1]\n",
            " [4.8 3.4 1.9 0.2]\n",
            " [6.4 3.1 5.5 1.8]\n",
            " [5.9 3.  4.2 1.5]\n",
            " [6.5 3.  5.5 1.8]\n",
            " [6.  2.9 4.5 1.5]\n",
            " [5.5 2.4 3.8 1.1]\n",
            " [6.2 2.9 4.3 1.3]\n",
            " [5.2 4.1 1.5 0.1]\n",
            " [5.2 3.4 1.4 0.2]\n",
            " [7.7 2.6 6.9 2.3]\n",
            " [5.7 2.6 3.5 1. ]\n",
            " [4.6 3.4 1.4 0.3]\n",
            " [5.8 2.7 4.1 1. ]\n",
            " [5.8 2.7 3.9 1.2]\n",
            " [6.2 3.4 5.4 2.3]\n",
            " [5.9 3.  5.1 1.8]\n",
            " [4.6 3.1 1.5 0.2]\n",
            " [5.8 2.8 5.1 2.4]\n",
            " [5.1 3.5 1.4 0.3]\n",
            " [6.8 3.2 5.9 2.3]\n",
            " [4.9 3.1 1.5 0.1]\n",
            " [5.5 2.3 4.  1.3]\n",
            " [5.1 3.7 1.5 0.4]\n",
            " [5.8 2.7 5.1 1.9]\n",
            " [6.7 3.1 4.4 1.4]\n",
            " [6.8 3.  5.5 2.1]\n",
            " [5.2 2.7 3.9 1.4]\n",
            " [6.7 3.1 5.6 2.4]\n",
            " [5.3 3.7 1.5 0.2]\n",
            " [5.  2.  3.5 1. ]\n",
            " [6.6 2.9 4.6 1.3]\n",
            " [6.  2.7 5.1 1.6]\n",
            " [6.3 2.3 4.4 1.3]\n",
            " [7.7 3.  6.1 2.3]\n",
            " [4.9 3.  1.4 0.2]\n",
            " [4.6 3.2 1.4 0.2]\n",
            " [6.3 2.7 4.9 1.8]\n",
            " [6.6 3.  4.4 1.4]\n",
            " [6.9 3.1 4.9 1.5]\n",
            " [4.3 3.  1.1 0.1]\n",
            " [5.6 2.7 4.2 1.3]\n",
            " [4.8 3.4 1.6 0.2]\n",
            " [7.6 3.  6.6 2.1]\n",
            " [7.7 2.8 6.7 2. ]\n",
            " [4.9 2.5 4.5 1.7]\n",
            " [6.5 3.2 5.1 2. ]\n",
            " [5.1 3.3 1.7 0.5]\n",
            " [6.3 2.9 5.6 1.8]\n",
            " [6.1 2.6 5.6 1.4]\n",
            " [5.  3.4 1.5 0.2]\n",
            " [6.1 3.  4.6 1.4]\n",
            " [5.6 3.  4.5 1.5]\n",
            " [5.1 3.8 1.5 0.3]\n",
            " [5.6 2.8 4.9 2. ]\n",
            " [4.4 3.  1.3 0.2]\n",
            " [5.5 2.4 3.7 1. ]\n",
            " [4.7 3.2 1.6 0.2]\n",
            " [6.7 3.3 5.7 2.5]\n",
            " [5.2 3.5 1.5 0.2]\n",
            " [6.4 2.7 5.3 1.9]\n",
            " [6.3 2.8 5.1 1.5]\n",
            " [4.4 2.9 1.4 0.2]\n",
            " [6.1 3.  4.9 1.8]\n",
            " [4.9 3.1 1.5 0.2]\n",
            " [5.  2.3 3.3 1. ]\n",
            " [4.8 3.  1.4 0.3]\n",
            " [5.8 4.  1.2 0.2]\n",
            " [6.3 3.4 5.6 2.4]\n",
            " [5.4 3.  4.5 1.5]\n",
            " [7.1 3.  5.9 2.1]\n",
            " [6.3 3.3 6.  2.5]\n",
            " [5.1 3.8 1.9 0.4]\n",
            " [6.4 2.8 5.6 2.2]\n",
            " [7.7 3.8 6.7 2.2]]\n",
            "[0 0 1 1 1 0 0 0 2 2 1 1 0 0 1 1 2 2 0 1 1 2 0 0 0 0 0 0 2 1 1 2 0 0 0 0 1\n",
            " 0 1 1 1 1 1 0 1 2 0 2 1 2 1 1 1 0 0 2 1 0 1 1 2 2 0 2 0 2 0 1 0 2 1 2 1 2\n",
            " 0 1 1 1 1 2 0 0 2 1 1 0 1 0 2 2 2 2 0 2 2 0 1 1 0 2 0 1 0 2 0 2 2 0 2 0 1\n",
            " 0 0 2 1 2 2 0 2 2]\n"
          ]
        }
      ]
    },
    {
      "cell_type": "code",
      "source": [
        "print(x_test)\n",
        "print(y_test)"
      ],
      "metadata": {
        "colab": {
          "base_uri": "https://localhost:8080/"
        },
        "id": "5akAx1xtveHQ",
        "outputId": "5efad14f-9b70-44ae-c2cc-807157b1da89"
      },
      "execution_count": 17,
      "outputs": [
        {
          "output_type": "stream",
          "name": "stdout",
          "text": [
            "[[5.4 3.7 1.5 0.2]\n",
            " [6.4 3.2 5.3 2.3]\n",
            " [6.5 2.8 4.6 1.5]\n",
            " [6.3 2.5 5.  1.9]\n",
            " [6.1 2.9 4.7 1.4]\n",
            " [6.8 2.8 4.8 1.4]\n",
            " [6.7 3.1 4.7 1.5]\n",
            " [6.  3.  4.8 1.8]\n",
            " [5.6 2.9 3.6 1.3]\n",
            " [5.  3.2 1.2 0.2]\n",
            " [6.9 3.2 5.7 2.3]\n",
            " [5.7 3.  4.2 1.2]\n",
            " [7.4 2.8 6.1 1.9]\n",
            " [7.2 3.6 6.1 2.5]\n",
            " [5.  3.5 1.6 0.6]\n",
            " [7.9 3.8 6.4 2. ]\n",
            " [5.6 2.5 3.9 1.1]\n",
            " [5.7 2.8 4.1 1.3]\n",
            " [6.  2.2 5.  1.5]\n",
            " [5.7 2.9 4.2 1.3]\n",
            " [5.1 3.8 1.6 0.2]\n",
            " [6.9 3.1 5.1 2.3]\n",
            " [5.5 3.5 1.3 0.2]\n",
            " [5.8 2.6 4.  1.2]\n",
            " [5.8 2.7 5.1 1.9]\n",
            " [4.7 3.2 1.3 0.2]\n",
            " [7.2 3.  5.8 1.6]\n",
            " [6.5 3.  5.2 2. ]\n",
            " [6.7 3.3 5.7 2.1]\n",
            " [6.2 2.8 4.8 1.8]]\n",
            "[0 2 1 2 1 1 1 2 1 0 2 1 2 2 0 2 1 1 2 1 0 2 0 1 2 0 2 2 2 2]\n"
          ]
        }
      ]
    },
    {
      "cell_type": "code",
      "source": [
        "knn=KNeighborsClassifier(n_neighbors=3) # k=3"
      ],
      "metadata": {
        "id": "IJ66-fbWj_OX"
      },
      "execution_count": 27,
      "outputs": []
    },
    {
      "cell_type": "code",
      "source": [
        "knn.fit(x_train, y_train)"
      ],
      "metadata": {
        "id": "TZH1Daf6kXps",
        "colab": {
          "base_uri": "https://localhost:8080/"
        },
        "outputId": "e37593f2-36a7-4983-a493-2618ddabab93"
      },
      "execution_count": 28,
      "outputs": [
        {
          "output_type": "execute_result",
          "data": {
            "text/plain": [
              "KNeighborsClassifier(n_neighbors=3)"
            ]
          },
          "metadata": {},
          "execution_count": 28
        }
      ]
    },
    {
      "cell_type": "code",
      "source": [
        "from sklearn.metrics import accuracy_score\n",
        "y_predict = knn.predict(x_train) \n",
        "score = accuracy_score(y_train, y_predict)\n",
        "print(score) #1.0"
      ],
      "metadata": {
        "id": "A38LYJB_kY4d",
        "colab": {
          "base_uri": "https://localhost:8080/"
        },
        "outputId": "c4dbe7a8-b43a-4f2b-de05-5f8be6a32e50"
      },
      "execution_count": 40,
      "outputs": [
        {
          "output_type": "stream",
          "name": "stdout",
          "text": [
            "0.9583333333333334\n"
          ]
        }
      ]
    },
    {
      "cell_type": "code",
      "source": [
        "y_predict = knn.predict(x_test) \n",
        "score = accuracy_score(y_test, y_predict)\n",
        "print(score) #1.0"
      ],
      "metadata": {
        "id": "B2-GKCfMkZyL",
        "colab": {
          "base_uri": "https://localhost:8080/"
        },
        "outputId": "a1b405ab-b148-414b-e908-acb3c84e2495"
      },
      "execution_count": 42,
      "outputs": [
        {
          "output_type": "stream",
          "name": "stdout",
          "text": [
            "0.9666666666666667\n"
          ]
        }
      ]
    }
  ]
}